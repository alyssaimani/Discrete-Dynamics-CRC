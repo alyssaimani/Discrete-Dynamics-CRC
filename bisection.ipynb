{
 "cells": [
  {
   "cell_type": "markdown",
   "id": "85282810-4a7e-4b14-8248-6758cea3e467",
   "metadata": {},
   "source": [
    "# Solving Equation using Bisection Method"
   ]
  },
  {
   "cell_type": "code",
   "execution_count": 20,
   "id": "6096f9e7-ecd5-4f7b-951b-2f3a2185c86a",
   "metadata": {},
   "outputs": [
    {
     "name": "stdout",
     "output_type": "stream",
     "text": [
      "B star: 8.52\n"
     ]
    }
   ],
   "source": [
    "from scipy.optimize import bisect\n",
    "from datatypes.loader import *\n",
    "from mathdyn.equations import *\n",
    "\n",
    "p, init, ival = get_params(\"params.yaml\", \"eq6\")\n",
    "\n",
    "def equation(B_star, r_C=p.r_C, r_B=p.r_B, alpha=p.alpha, gamma=p.gamma, m_2=p.m_2, g=p.g, K=p.k, K_B=p.k_B, B_0=p.b_0):\n",
    "    return r_B - (B_star*r_B)/K_B - gamma*K - (alpha*gamma*K)/r_C + (m_2*gamma*sigmoid(B_star, B_0, g)*K)/r_C\n",
    "print(\"B star: {0:.2f}\".format(bisect(equation,-400,400)))"
   ]
  },
  {
   "cell_type": "code",
   "execution_count": 17,
   "id": "2e391bd5-2691-4db0-bd9b-8a5e30c03c59",
   "metadata": {},
   "outputs": [
    {
     "name": "stdout",
     "output_type": "stream",
     "text": [
      "H star: -0.10\n"
     ]
    }
   ],
   "source": [
    "p, init, ival = get_params(\"params.yaml\", \"eq7\")\n",
    "\n",
    "def equation(H_star, C_star=0.12, r_H=p.r_H, r_C=p.r_C, r_B=p.r_B, alpha=p.alpha, beta=p.beta, gamma=p.gamma, m_1=p.m_1, m_2=p.m_2, g=p.g, K=p.k, K_B=p.k_B, B_0=p.b_0):\n",
    "    return K*(r_H + r_C - alpha + (m_2 - m_1)*sigmoid(0, B_0, g))/(beta*K + r_H + r_C) - H_star - C_star\n",
    "print(\"H star: {0:.2f}\".format(bisect(equation,-1000,1000)))"
   ]
  },
  {
   "cell_type": "code",
   "execution_count": null,
   "id": "1d556fed-a537-42a2-b725-8f57fcdaf656",
   "metadata": {},
   "outputs": [],
   "source": []
  }
 ],
 "metadata": {
  "kernelspec": {
   "display_name": "Python 3 (ipykernel)",
   "language": "python",
   "name": "python3"
  },
  "language_info": {
   "codemirror_mode": {
    "name": "ipython",
    "version": 3
   },
   "file_extension": ".py",
   "mimetype": "text/x-python",
   "name": "python",
   "nbconvert_exporter": "python",
   "pygments_lexer": "ipython3",
   "version": "3.10.16"
  }
 },
 "nbformat": 4,
 "nbformat_minor": 5
}
